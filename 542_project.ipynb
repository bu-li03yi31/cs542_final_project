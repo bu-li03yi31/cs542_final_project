{
 "cells": [
  {
   "cell_type": "markdown",
   "metadata": {},
   "source": [
    "# cs542 Machine Learning"
   ]
  },
  {
   "cell_type": "markdown",
   "metadata": {},
   "source": [
    "Collaborator: Yiteng Xu, Changlei Shi, ChenCheng Wang, Yi Li"
   ]
  },
  {
   "cell_type": "markdown",
   "metadata": {},
   "source": [
    "# Pre-process data"
   ]
  },
  {
   "cell_type": "code",
   "execution_count": 2,
   "metadata": {
    "collapsed": false
   },
   "outputs": [],
   "source": [
    "import csv\n",
    "import pandas as pd\n",
    "import numpy as np\n",
    "import json\n",
    "from collections import defaultdict\n",
    "\n",
    "def readJson(f):\n",
    "    for l in open(f):\n",
    "        yield eval(l)"
   ]
  },
  {
   "cell_type": "code",
   "execution_count": 19,
   "metadata": {
    "collapsed": false
   },
   "outputs": [],
   "source": [
    "items = []\n",
    "\n",
    "for l in open(\"anonymous-msweb.data\"):\n",
    "    if l.startswith(\"A\"):\n",
    "        m,n,p,q,i = l.strip().split(',')\n",
    "        q = q[1:-1]\n",
    "        i = i[1:-1]\n",
    "        tmp = [n, q, i]\n",
    "        items.append(tmp)\n",
    "\n",
    "items_df = pd.DataFrame(items)\n",
    "items_df.to_csv(\"item.txt\")"
   ]
  },
  {
   "cell_type": "code",
   "execution_count": 6,
   "metadata": {
    "collapsed": true
   },
   "outputs": [],
   "source": [
    "current = \"\"\n",
    "item = \"\"\n",
    "user_item = []\n",
    "training_user_item_dict = {}\n",
    "\n",
    "for l in open(\"anonymous-msweb.data\"):\n",
    "    if l.startswith(\"C\"):\n",
    "        m,n,p = l.strip().split(',')\n",
    "        current = p\n",
    "    if l.startswith(\"V\"):\n",
    "        a,b,c = l.strip().split(',')\n",
    "        item = b\n",
    "        tp = [current, item]\n",
    "        user_item.append(tp)\n",
    "        if current in training_user_item_dict:\n",
    "            cur_list = training_user_item_dict[current]\n",
    "            cur_list.append(item)\n",
    "            training_user_item_dict[current] = cur_list\n",
    "        else:\n",
    "            my_list = [item]\n",
    "            training_user_item_dict[current] = my_list\n",
    "user_item_df = pd.DataFrame(user_item)\n",
    "user_item_df.to_csv(\"user_item.txt\")\n",
    "#print training_user_item_dict\n",
    "w = csv.writer(open(\"user_item_dict.csv\", \"w\"))\n",
    "for key, val in training_user_item_dict.items():\n",
    "    w.writerow([key, val])"
   ]
  },
  {
   "cell_type": "code",
   "execution_count": 7,
   "metadata": {
    "collapsed": false
   },
   "outputs": [],
   "source": [
    "items = []\n",
    "\n",
    "for l in open(\"anonymous-msweb.test\"):\n",
    "    if l.startswith(\"A\"):\n",
    "        m,n,p,q,i = l.strip().split(',')\n",
    "        q = q[1:-1]\n",
    "        i = i[1:-1]\n",
    "        tmp = [n, q, i]\n",
    "        items.append(tmp)\n",
    "\n",
    "items_df = pd.DataFrame(items)\n",
    "items_df.to_csv(\"item_test.txt\")\n",
    "\n",
    "current = \"\"\n",
    "item = \"\"\n",
    "user_item = []\n",
    "training_user_item_dict = {}\n",
    "for l in open(\"anonymous-msweb.test\"):\n",
    "    if l.startswith(\"C\"):\n",
    "        m,n,p = l.strip().split(',')\n",
    "        current = p\n",
    "    if l.startswith(\"V\"):\n",
    "        a,b,c = l.strip().split(',')\n",
    "        item = b\n",
    "        tp = [current, item]\n",
    "        user_item.append(tp)\n",
    "        if current in training_user_item_dict:\n",
    "            cur_list = training_user_item_dict[current]\n",
    "            cur_list.append(item)\n",
    "            training_user_item_dict[current] = cur_list\n",
    "        else:\n",
    "            my_list = [item]\n",
    "            training_user_item_dict[current] = my_list\n",
    "user_item_df = pd.DataFrame(user_item)\n",
    "user_item_df.to_csv(\"user_item_test.txt\")\n",
    "\n",
    "#print training_user_item_dict\n",
    "w = csv.writer(open(\"user_item_dict_test.csv\", \"w\"))\n",
    "for key, val in training_user_item_dict.items():\n",
    "    w.writerow([key, val])"
   ]
  },
  {
   "cell_type": "markdown",
   "metadata": {},
   "source": [
    "# Implementing Memory-based Algorithms"
   ]
  },
  {
   "cell_type": "code",
   "execution_count": 1,
   "metadata": {
    "collapsed": false
   },
   "outputs": [
    {
     "name": "stdout",
     "output_type": "stream",
     "text": [
      "3.01592736388\n",
      "32711\n"
     ]
    }
   ],
   "source": [
    "import csv\n",
    "import pandas as pd\n",
    "import numpy as np\n",
    "import json\n",
    "from collections import defaultdict\n",
    "\n",
    "#load file\n",
    "user_item_df = pd.read_csv(\"user_item.txt\")\n",
    "user_item_df.columns = ['index','user', 'item']\n",
    "user_item_df.drop('index', axis=1, inplace=True)\n",
    "\n",
    "#group by user and get the total vote of each user\n",
    "tmp = user_item_df.groupby(['user']).count()\n",
    "user_votes = []\n",
    "for index, item in tmp.iterrows():\n",
    "    c = int(item['item'])\n",
    "    tp = [index, c]\n",
    "    user_votes.append(tp)\n",
    "\n",
    "#save results to another dataframe\n",
    "user_votes_df = pd.DataFrame(user_votes)\n",
    "user_votes_df.columns = ['user','count']\n",
    "\n",
    "#print the mean of votes per user\n",
    "print user_votes_df['count'].mean()\n",
    "#print number of users in trainning set\n",
    "print len(user_votes_df)\n"
   ]
  },
  {
   "cell_type": "code",
   "execution_count": 39,
   "metadata": {
    "collapsed": false
   },
   "outputs": [
    {
     "name": "stdout",
     "output_type": "stream",
     "text": [
      "5000\n"
     ]
    }
   ],
   "source": [
    "items_df = pd.read_csv(\"user_item_test.txt\")\n",
    "active_users = []\n",
    "for index, item in items_df.iterrows():\n",
    "    active_users.append(str(item[1]))\n",
    "    \n",
    "active_users = set(active_users)\n",
    "print len(active_users)\n"
   ]
  },
  {
   "cell_type": "markdown",
   "metadata": {},
   "source": [
    "Code for setting the style of the notebook"
   ]
  },
  {
   "cell_type": "code",
   "execution_count": 1,
   "metadata": {
    "collapsed": false
   },
   "outputs": [
    {
     "ename": "IOError",
     "evalue": "[Errno 2] No such file or directory: '../../theme/custom.css'",
     "output_type": "error",
     "traceback": [
      "\u001b[0;31m---------------------------------------------------------------------------\u001b[0m",
      "\u001b[0;31mIOError\u001b[0m                                   Traceback (most recent call last)",
      "\u001b[0;32m<ipython-input-1-d44b2fe746ba>\u001b[0m in \u001b[0;36m<module>\u001b[0;34m()\u001b[0m\n\u001b[1;32m      4\u001b[0m     \u001b[0mstyles\u001b[0m \u001b[0;34m=\u001b[0m \u001b[0mopen\u001b[0m\u001b[0;34m(\u001b[0m\u001b[0;34m\"../../theme/custom.css\"\u001b[0m\u001b[0;34m,\u001b[0m \u001b[0;34m\"r\"\u001b[0m\u001b[0;34m)\u001b[0m\u001b[0;34m.\u001b[0m\u001b[0mread\u001b[0m\u001b[0;34m(\u001b[0m\u001b[0;34m)\u001b[0m\u001b[0;34m\u001b[0m\u001b[0m\n\u001b[1;32m      5\u001b[0m     \u001b[0;32mreturn\u001b[0m \u001b[0mHTML\u001b[0m\u001b[0;34m(\u001b[0m\u001b[0mstyles\u001b[0m\u001b[0;34m)\u001b[0m\u001b[0;34m\u001b[0m\u001b[0m\n\u001b[0;32m----> 6\u001b[0;31m \u001b[0mcss_styling\u001b[0m\u001b[0;34m(\u001b[0m\u001b[0;34m)\u001b[0m\u001b[0;34m\u001b[0m\u001b[0m\n\u001b[0m",
      "\u001b[0;32m<ipython-input-1-d44b2fe746ba>\u001b[0m in \u001b[0;36mcss_styling\u001b[0;34m()\u001b[0m\n\u001b[1;32m      2\u001b[0m \u001b[0;32mfrom\u001b[0m \u001b[0mIPython\u001b[0m\u001b[0;34m.\u001b[0m\u001b[0mcore\u001b[0m\u001b[0;34m.\u001b[0m\u001b[0mdisplay\u001b[0m \u001b[0;32mimport\u001b[0m \u001b[0mHTML\u001b[0m\u001b[0;34m\u001b[0m\u001b[0m\n\u001b[1;32m      3\u001b[0m \u001b[0;32mdef\u001b[0m \u001b[0mcss_styling\u001b[0m\u001b[0;34m(\u001b[0m\u001b[0;34m)\u001b[0m\u001b[0;34m:\u001b[0m\u001b[0;34m\u001b[0m\u001b[0m\n\u001b[0;32m----> 4\u001b[0;31m     \u001b[0mstyles\u001b[0m \u001b[0;34m=\u001b[0m \u001b[0mopen\u001b[0m\u001b[0;34m(\u001b[0m\u001b[0;34m\"../../theme/custom.css\"\u001b[0m\u001b[0;34m,\u001b[0m \u001b[0;34m\"r\"\u001b[0m\u001b[0;34m)\u001b[0m\u001b[0;34m.\u001b[0m\u001b[0mread\u001b[0m\u001b[0;34m(\u001b[0m\u001b[0;34m)\u001b[0m\u001b[0;34m\u001b[0m\u001b[0m\n\u001b[0m\u001b[1;32m      5\u001b[0m     \u001b[0;32mreturn\u001b[0m \u001b[0mHTML\u001b[0m\u001b[0;34m(\u001b[0m\u001b[0mstyles\u001b[0m\u001b[0;34m)\u001b[0m\u001b[0;34m\u001b[0m\u001b[0m\n\u001b[1;32m      6\u001b[0m \u001b[0mcss_styling\u001b[0m\u001b[0;34m(\u001b[0m\u001b[0;34m)\u001b[0m\u001b[0;34m\u001b[0m\u001b[0m\n",
      "\u001b[0;31mIOError\u001b[0m: [Errno 2] No such file or directory: '../../theme/custom.css'"
     ]
    }
   ],
   "source": [
    "\n",
    "from IPython.core.display import HTML\n",
    "def css_styling():\n",
    "    styles = open(\"../../theme/custom.css\", \"r\").read()\n",
    "    return HTML(styles)\n",
    "css_styling()"
   ]
  },
  {
   "cell_type": "code",
   "execution_count": null,
   "metadata": {
    "collapsed": true
   },
   "outputs": [],
   "source": []
  }
 ],
 "metadata": {
  "kernelspec": {
   "display_name": "Python 2",
   "language": "python",
   "name": "python2"
  },
  "language_info": {
   "codemirror_mode": {
    "name": "ipython",
    "version": 2
   },
   "file_extension": ".py",
   "mimetype": "text/x-python",
   "name": "python",
   "nbconvert_exporter": "python",
   "pygments_lexer": "ipython2",
   "version": "2.7.11"
  }
 },
 "nbformat": 4,
 "nbformat_minor": 0
}
